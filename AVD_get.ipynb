{
  "nbformat": 4,
  "nbformat_minor": 0,
  "metadata": {
    "colab": {
      "name": "AVD_get",
      "provenance": [],
      "collapsed_sections": [],
      "toc_visible": true,
      "include_colab_link": true
    },
    "kernelspec": {
      "name": "python3",
      "display_name": "Python 3"
    }
  },
  "cells": [
    {
      "cell_type": "markdown",
      "metadata": {
        "id": "view-in-github",
        "colab_type": "text"
      },
      "source": [
        "<a href=\"https://colab.research.google.com/github/seungbobkimpants/reilly_nlp/blob/master/AVD_get.ipynb\" target=\"_parent\"><img src=\"https://colab.research.google.com/assets/colab-badge.svg\" alt=\"Open In Colab\"/></a>"
      ]
    },
    {
      "cell_type": "markdown",
      "metadata": {
        "id": "uhAyZ6ouyxck",
        "colab_type": "text"
      },
      "source": [
        "# **Getting text arousal, valence, and dominance using Warriner, Kuperman & Brysbaert (2013)**\n",
        "\n",
        "\n"
      ]
    },
    {
      "cell_type": "markdown",
      "metadata": {
        "id": "sCqwFX-mf-aN",
        "colab_type": "text"
      },
      "source": [
        "## **Preliminaries**"
      ]
    },
    {
      "cell_type": "markdown",
      "metadata": {
        "id": "z0eN_6IZ33RE",
        "colab_type": "text"
      },
      "source": [
        "We are going to import some useful libraries first.\n",
        "\n",
        "* `numpy` supports fast computation on large, n-dimensional arrays. Python is slower than languages like C and Java, so `numpy` tries to speed it up. It's conventional to import it as `np`.\n",
        "* `pandas` is built on top of `numpy`. It gives you some easy tools to visualize and analyze tabular (2-dimensional) data. It's conventional to import it as `pd`.\n",
        "* `spacy` is a fast and fancy natural language processing library."
      ]
    },
    {
      "cell_type": "code",
      "metadata": {
        "id": "-YkjYe2gyqqY",
        "colab_type": "code",
        "colab": {}
      },
      "source": [
        "import numpy as np\n",
        "import pandas as pd\n",
        "import spacy"
      ],
      "execution_count": 1,
      "outputs": []
    },
    {
      "cell_type": "markdown",
      "metadata": {
        "id": "mfwvG3z96cHS",
        "colab_type": "text"
      },
      "source": [
        "Though spaCy and NLTK both come with their own lemmatizers, they are not that good. Brad Jascob's LemmInflect is better! So we'll use it. `https://github.com/bjascob/LemmInflect`\n",
        "\n",
        "You can run bash commands after the `!` symbol. Because Colab doesn't come with LemmInflect, I have to install it with `pip`."
      ]
    },
    {
      "cell_type": "code",
      "metadata": {
        "id": "qdg7mshvpIZj",
        "colab_type": "code",
        "colab": {
          "base_uri": "https://localhost:8080/",
          "height": 141
        },
        "outputId": "ddd0d86b-3e5e-4dd1-9805-4c90221edf74"
      },
      "source": [
        "!pip3 install lemminflect\n",
        "import lemminflect"
      ],
      "execution_count": 2,
      "outputs": [
        {
          "output_type": "stream",
          "text": [
            "Collecting lemminflect\n",
            "\u001b[?25l  Downloading https://files.pythonhosted.org/packages/8d/c5/62e8dd0b6cbfea212cf55a2338838d85a819dbda9462ba53a415dcf19b86/lemminflect-0.2.1-py3-none-any.whl (769kB)\n",
            "\u001b[K     |████████████████████████████████| 778kB 2.8MB/s \n",
            "\u001b[?25hRequirement already satisfied: numpy in /usr/local/lib/python3.6/dist-packages (from lemminflect) (1.18.5)\n",
            "Installing collected packages: lemminflect\n",
            "Successfully installed lemminflect-0.2.1\n"
          ],
          "name": "stdout"
        }
      ]
    },
    {
      "cell_type": "markdown",
      "metadata": {
        "id": "zzbTkdKCgG3I",
        "colab_type": "text"
      },
      "source": [
        "## **Dealing with data**\n"
      ]
    },
    {
      "cell_type": "markdown",
      "metadata": {
        "id": "iJDVJgHZlqZN",
        "colab_type": "text"
      },
      "source": [
        "~~First, obtain WKB's measures at `http://crr.ugent.be/archives/1003` then upload here by connecting to the runtime, then uploading `Ratings_Warriner_et_al.csv` in the Files sidebar.~~\n",
        "\n",
        "OK, because it's annoying to upload the WKB ratings every time, we are going to keep it in the `Summer Cog Zoom May 20` folder on Google Drive. We can mount Google Drive by running the following cell:"
      ]
    },
    {
      "cell_type": "code",
      "metadata": {
        "id": "iBtnYk213VBt",
        "colab_type": "code",
        "colab": {
          "base_uri": "https://localhost:8080/",
          "height": 124
        },
        "outputId": "f632c9f2-1880-41e9-ac08-a9a84b65d9f6"
      },
      "source": [
        "from google.colab import drive\n",
        "drive.mount('/content/drive')"
      ],
      "execution_count": 4,
      "outputs": [
        {
          "output_type": "stream",
          "text": [
            "Go to this URL in a browser: https://accounts.google.com/o/oauth2/auth?client_id=947318989803-6bn6qk8qdgf4n4g3pfee6491hc0brc4i.apps.googleusercontent.com&redirect_uri=urn%3aietf%3awg%3aoauth%3a2.0%3aoob&response_type=code&scope=email%20https%3a%2f%2fwww.googleapis.com%2fauth%2fdocs.test%20https%3a%2f%2fwww.googleapis.com%2fauth%2fdrive%20https%3a%2f%2fwww.googleapis.com%2fauth%2fdrive.photos.readonly%20https%3a%2f%2fwww.googleapis.com%2fauth%2fpeopleapi.readonly\n",
            "\n",
            "Enter your authorization code:\n",
            "··········\n",
            "Mounted at /content/drive\n"
          ],
          "name": "stdout"
        }
      ]
    },
    {
      "cell_type": "markdown",
      "metadata": {
        "id": "r0WmogGFfNnz",
        "colab_type": "text"
      },
      "source": [
        "Read in the lexicon, and call in only the relevant columns."
      ]
    },
    {
      "cell_type": "code",
      "metadata": {
        "id": "Cz5rzzi-0cEr",
        "colab_type": "code",
        "colab": {
          "base_uri": "https://localhost:8080/",
          "height": 34
        },
        "outputId": "95a9f310-44d5-4e74-a200-dac4adc33a7c"
      },
      "source": [
        "ratings_path = '/content/drive/My Drive/Data Analysis Summer Cog Lab/Linguistics/Ratings_Warriner_et_al.csv'\n",
        "\n",
        "# df meaning dataframe\n",
        "df = pd.read_csv(ratings_path, usecols=['Word', 'V.Mean.Sum', 'A.Mean.Sum', 'D.Mean.Sum'])\n",
        "print('There are this many words:', len(df)-1)"
      ],
      "execution_count": 5,
      "outputs": [
        {
          "output_type": "stream",
          "text": [
            "There are this many words: 13914\n"
          ],
          "name": "stdout"
        }
      ]
    },
    {
      "cell_type": "markdown",
      "metadata": {
        "id": "1dOH9g_ie3rV",
        "colab_type": "text"
      },
      "source": [
        "Obviously, there are more than 13914 words in the English language. We will have to ignore all the words not in this list, but if we have time, we could try to extrapolate ('bootstrap') using word vector distances."
      ]
    },
    {
      "cell_type": "markdown",
      "metadata": {
        "id": "aCpd577rglPJ",
        "colab_type": "text"
      },
      "source": [
        "Let's define some test text. We'll modify this part to use actual text data later."
      ]
    },
    {
      "cell_type": "code",
      "metadata": {
        "id": "4kQukh-BfI0k",
        "colab_type": "code",
        "colab": {}
      },
      "source": [
        "test_text = 'GRASSLEY: As part of judge Kavanaugh’s nomination to the Supreme Court, the FBI conducted its sixth full field background investigation of Judge Kavanaugh since 1993, 25 years ago. Nowhere in any of these six FBI reports, which committee investigators have reviewed on a bipartisan basis, was there a whiff of any issue — any issue at all related in any way to inappropriate sexual behavior. \\n Dr. Ford first raised her allegations in a secret letter to the ranking member nearly two months ago in July. This letter was secret from July 30th, September 13th to — no, July 30th until September 13th when I first heard about it.'\n",
        "\n",
        "evil_text = 'I fucking hate that stupid asshole! I am so angry!'\n",
        "good_text = 'I really love that beautiful angel. I am feeling blessed.'"
      ],
      "execution_count": 6,
      "outputs": []
    },
    {
      "cell_type": "markdown",
      "metadata": {
        "id": "TgNvzd5agz7L",
        "colab_type": "text"
      },
      "source": [
        "## **The fun stuff**"
      ]
    },
    {
      "cell_type": "markdown",
      "metadata": {
        "id": "CQ-7yXzyg7bH",
        "colab_type": "text"
      },
      "source": [
        "We'll first load in one of spaCy's pre-trained English models. It's customary to call it `nlp`."
      ]
    },
    {
      "cell_type": "code",
      "metadata": {
        "id": "LApNI3SDhJO0",
        "colab_type": "code",
        "colab": {}
      },
      "source": [
        "# load spaCy's pre-trained English model and call it nlp\n",
        "nlp = spacy.load('en_core_web_sm')\n",
        "# try large"
      ],
      "execution_count": 7,
      "outputs": []
    },
    {
      "cell_type": "markdown",
      "metadata": {
        "id": "RcUc0RNRhLKf",
        "colab_type": "text"
      },
      "source": [
        "Feeding a text into spaCy's models automatically does some NLP for you. So, once we feed `test_text` into `nlp`, and call it `doc`, we can ask what the sentences are in `test_text`, for example."
      ]
    },
    {
      "cell_type": "code",
      "metadata": {
        "id": "2U4XyTBVhxGq",
        "colab_type": "code",
        "colab": {
          "base_uri": "https://localhost:8080/",
          "height": 159
        },
        "outputId": "f68ecd43-b09d-47af-a32c-01b55c4e5998"
      },
      "source": [
        "doc = nlp(test_text)\n",
        "\n",
        "sentences = list(doc.sents)\n",
        "print('The sentences are:')\n",
        "for s in sentences:\n",
        "  print(s)"
      ],
      "execution_count": 8,
      "outputs": [
        {
          "output_type": "stream",
          "text": [
            "The sentences are:\n",
            "GRASSLEY:\n",
            "As part of judge Kavanaugh’s nomination to the Supreme Court, the FBI conducted its sixth full field background investigation of Judge Kavanaugh since 1993, 25 years ago.\n",
            "Nowhere in any of these six FBI reports, which committee investigators have reviewed on a bipartisan basis, was there a whiff of any issue — any issue at all related in any way to inappropriate sexual behavior. \n",
            " \n",
            "Dr. Ford first raised her allegations in a secret letter to the ranking member nearly two months ago in July.\n",
            "This letter was secret from July 30th, September 13th to — no, July 30th until September 13th when I first heard about it.\n"
          ],
          "name": "stdout"
        }
      ]
    },
    {
      "cell_type": "markdown",
      "metadata": {
        "id": "CScCficYh-ku",
        "colab_type": "text"
      },
      "source": [
        "But we don't really care about sentence chunking for getting AVD values. Instead, we will need all the tokens, which are the default iterable units in a `doc`."
      ]
    },
    {
      "cell_type": "code",
      "metadata": {
        "id": "nho-hPFTieyC",
        "colab_type": "code",
        "colab": {
          "base_uri": "https://localhost:8080/",
          "height": 54
        },
        "outputId": "3c1bfea3-bed4-4389-bb63-c62f30da1494"
      },
      "source": [
        "lemmata = [token.lemma_ for token in doc]\n",
        "print('Lemmata:', lemmata)"
      ],
      "execution_count": 9,
      "outputs": [
        {
          "output_type": "stream",
          "text": [
            "Lemmata: ['GRASSLEY', ':', 'as', 'part', 'of', 'judge', 'Kavanaugh', '’s', 'nomination', 'to', 'the', 'Supreme', 'Court', ',', 'the', 'FBI', 'conduct', '-PRON-', 'sixth', 'full', 'field', 'background', 'investigation', 'of', 'Judge', 'Kavanaugh', 'since', '1993', ',', '25', 'year', 'ago', '.', 'nowhere', 'in', 'any', 'of', 'these', 'six', 'FBI', 'report', ',', 'which', 'committee', 'investigator', 'have', 'review', 'on', 'a', 'bipartisan', 'basis', ',', 'be', 'there', 'a', 'whiff', 'of', 'any', 'issue', '—', 'any', 'issue', 'at', 'all', 'relate', 'in', 'any', 'way', 'to', 'inappropriate', 'sexual', 'behavior', '.', '\\n ', 'Dr.', 'Ford', 'first', 'raise', '-PRON-', 'allegation', 'in', 'a', 'secret', 'letter', 'to', 'the', 'rank', 'member', 'nearly', 'two', 'month', 'ago', 'in', 'July', '.', 'this', 'letter', 'be', 'secret', 'from', 'July', '30th', ',', 'September', '13th', 'to', '—', 'no', ',', 'July', '30th', 'until', 'September', '13th', 'when', '-PRON-', 'first', 'hear', 'about', '-PRON-', '.']\n"
          ],
          "name": "stdout"
        }
      ]
    },
    {
      "cell_type": "markdown",
      "metadata": {
        "id": "Y8ZJXcVcilmB",
        "colab_type": "text"
      },
      "source": [
        "The strange one-line code above uses *list comprehension*. Instead of writing a 3+ line for loop, we can stick it into one loop. More concretely, \n",
        "\n",
        "`lemmata = [token.lemma_ for token in doc]` \n",
        "\n",
        "is equivalent to \n",
        "\n",
        "```\n",
        "lemmata = []\n",
        "for token in doc:\n",
        "  lemmata.append(token.lemma_)\n",
        "```\n",
        "And we can even use conditionals with it:\n",
        "\n"
      ]
    },
    {
      "cell_type": "code",
      "metadata": {
        "id": "iiUtX8-Ljdfy",
        "colab_type": "code",
        "colab": {
          "base_uri": "https://localhost:8080/",
          "height": 54
        },
        "outputId": "391fdd9b-b5f2-46d0-c75b-7cee9f5b02ba"
      },
      "source": [
        "present = [lem for lem in lemmata if (df['Word']==lem).any()]\n",
        "print('Lemmata in WKB:', present)"
      ],
      "execution_count": 10,
      "outputs": [
        {
          "output_type": "stream",
          "text": [
            "Lemmata in WKB: ['part', 'judge', 'nomination', 'conduct', 'full', 'field', 'background', 'investigation', 'year', 'six', 'report', 'committee', 'investigator', 'have', 'review', 'basis', 'be', 'whiff', 'issue', 'issue', 'relate', 'way', 'inappropriate', 'sexual', 'behavior', 'first', 'raise', 'allegation', 'secret', 'letter', 'rank', 'member', 'two', 'month', 'letter', 'be', 'secret', 'first', 'hear']\n"
          ],
          "name": "stdout"
        }
      ]
    },
    {
      "cell_type": "markdown",
      "metadata": {
        "id": "sS3juu7WkGai",
        "colab_type": "text"
      },
      "source": [
        "Just to be clear, `(df['Word']==lem).any()` checks whether there is any word in the `Word` column in `df` that matches the lemma, then returns a boolean (true/false) value."
      ]
    },
    {
      "cell_type": "markdown",
      "metadata": {
        "id": "NU15Eb6gkne6",
        "colab_type": "text"
      },
      "source": [
        "We can write a quick function/method to return the vertical index of a word (basically copy-pasted from StackOverflow):"
      ]
    },
    {
      "cell_type": "code",
      "metadata": {
        "id": "3MwJfmL9k023",
        "colab_type": "code",
        "colab": {}
      },
      "source": [
        "def idx(element):\n",
        "  return (df[df['Word']==element].index)[0]"
      ],
      "execution_count": 11,
      "outputs": []
    },
    {
      "cell_type": "markdown",
      "metadata": {
        "id": "sRy_53brk26S",
        "colab_type": "text"
      },
      "source": [
        "Then using the `at[index, column_name]` method that comes with `pandas`, we can find the arousal/valence/dominance values for a word in their respective columns."
      ]
    },
    {
      "cell_type": "code",
      "metadata": {
        "id": "-YiQAggYgTKP",
        "colab_type": "code",
        "colab": {
          "base_uri": "https://localhost:8080/",
          "height": 69
        },
        "outputId": "12031298-17f7-4d50-931d-ca33d6aa7309"
      },
      "source": [
        "arousal_values = [df.at[idx(lem), 'A.Mean.Sum'] for lem in present]\n",
        "valence_values = [df.at[idx(lem), 'V.Mean.Sum'] for lem in present]\n",
        "dominance_values = [df.at[idx(lem), 'D.Mean.Sum'] for lem in present]\n",
        "\n",
        "print('Mean arousal:', sum(arousal_values)/len(arousal_values))\n",
        "print('Mean valence:', sum(valence_values)/len(valence_values))\n",
        "print('Mean dominance:', sum(dominance_values)/len(dominance_values))"
      ],
      "execution_count": 12,
      "outputs": [
        {
          "output_type": "stream",
          "text": [
            "Mean arousal: 4.026923076923078\n",
            "Mean valence: 5.451538461538464\n",
            "Mean dominance: 5.579487179487179\n"
          ],
          "name": "stdout"
        }
      ]
    },
    {
      "cell_type": "markdown",
      "metadata": {
        "id": "b0s0VUOKlQXE",
        "colab_type": "text"
      },
      "source": [
        "Here are the results for the test texts we defined earlier:"
      ]
    },
    {
      "cell_type": "markdown",
      "metadata": {
        "id": "5fMlWkzVeqI1",
        "colab_type": "text"
      },
      "source": [
        "Good text:\n",
        "* Mean arousal: 4.471666666666667\n",
        "* Mean valence: 6.859999999999999\n",
        "* Mean dominance: 5.891666666666667\n",
        "\n",
        "Evil text: \n",
        "* Mean arousal: 5.578333333333333\n",
        "* Mean valence: 3.4516666666666667\n",
        "* Mean dominance: 4.323333333333333\n",
        "\n",
        "Kavanope:\n",
        "* Mean arousal: 4.026923076923078 \n",
        "* Mean valence: 5.451538461538464\n",
        "* Mean dominance: 5.579487179487179\n"
      ]
    },
    {
      "cell_type": "markdown",
      "metadata": {
        "id": "Ptkirx3jskFX",
        "colab_type": "text"
      },
      "source": [
        "## **Automating the process**"
      ]
    },
    {
      "cell_type": "markdown",
      "metadata": {
        "id": "tdH53tFjzKkM",
        "colab_type": "text"
      },
      "source": [
        "Let's write a function to do all this in one line."
      ]
    },
    {
      "cell_type": "code",
      "metadata": {
        "id": "Qj7OobcKzJWo",
        "colab_type": "code",
        "colab": {}
      },
      "source": [
        "def avd_get(text):\n",
        "  doc = nlp(text)\n",
        "  lemmata = [token.lemma_ for token in doc]\n",
        "  present = [lem for lem in lemmata if (df['Word']==lem).any()]\n",
        "  arousal_values = [df.at[idx(lem), 'A.Mean.Sum'] for lem in present]\n",
        "  valence_values = [df.at[idx(lem), 'V.Mean.Sum'] for lem in present]\n",
        "  dominance_values = [df.at[idx(lem), 'D.Mean.Sum'] for lem in present]\n",
        "\n",
        "  return sum(arousal_values)/len(arousal_values), sum(valence_values)/len(valence_values), sum(dominance_values)/len(dominance_values)\n"
      ],
      "execution_count": 13,
      "outputs": []
    },
    {
      "cell_type": "markdown",
      "metadata": {
        "id": "cuXtZzrjtFy9",
        "colab_type": "text"
      },
      "source": [
        "Try it out:"
      ]
    },
    {
      "cell_type": "code",
      "metadata": {
        "id": "C1dkXYGQ0lQT",
        "colab_type": "code",
        "colab": {
          "base_uri": "https://localhost:8080/",
          "height": 34
        },
        "outputId": "00776d97-2a89-43a4-fa4a-dfe99767be4f"
      },
      "source": [
        "avd_get(test_text)"
      ],
      "execution_count": 14,
      "outputs": [
        {
          "output_type": "execute_result",
          "data": {
            "text/plain": [
              "(4.026923076923078, 5.451538461538464, 5.579487179487179)"
            ]
          },
          "metadata": {
            "tags": []
          },
          "execution_count": 14
        }
      ]
    },
    {
      "cell_type": "markdown",
      "metadata": {
        "id": "weDyIbM5tHRy",
        "colab_type": "text"
      },
      "source": [
        "Beautiful. Now, we want to be able to take a folder containing all the files, and then write all these values into a CSV. Because it's a hassle to upload all the input files every time, we are going to access the input files from Google Drive. \n",
        "\n",
        "Once we have read in all the files from `input_data`, we store a list of `(filename, contents)` tuples as `documents`."
      ]
    },
    {
      "cell_type": "code",
      "metadata": {
        "id": "_FtCjoLhtanF",
        "colab_type": "code",
        "colab": {}
      },
      "source": [
        "import os\n",
        "\n",
        "input_path = '/content/drive/My Drive/Data Analysis Summer Cog Lab/Linguistics/pilot/3_edited'\n",
        "\n",
        "documents = os.listdir(input_path)\n",
        "\n",
        "documents = [(name, open(input_path+'/'+name, 'r').read()) for name in documents]"
      ],
      "execution_count": 15,
      "outputs": []
    },
    {
      "cell_type": "markdown",
      "metadata": {
        "id": "bj0en3z85wqQ",
        "colab_type": "text"
      },
      "source": [
        "Then we can get to work writing the AVD values into a CSV. NB this can feel quite slow because for each text spaCy has to apply `nlp()` to it."
      ]
    },
    {
      "cell_type": "code",
      "metadata": {
        "id": "BpIqt4Xwv89t",
        "colab_type": "code",
        "colab": {}
      },
      "source": [
        "import csv\n",
        "\n",
        "output_path = '/content/drive/My Drive/Data Analysis Summer Cog Lab/Linguistics/pilot/4_results/avd_edited_output.csv'\n",
        "with open(output_path, 'w') as file:\n",
        "    writer = csv.writer(file, delimiter=',')\n",
        "    writer.writerow(['name','arousal','valence','dominance'])\n",
        "    for d in documents:\n",
        "      name, text = d\n",
        "      arousal, valence, dominance = avd_get(text)\n",
        "      writer.writerow([name, arousal, valence, dominance])"
      ],
      "execution_count": null,
      "outputs": []
    },
    {
      "cell_type": "markdown",
      "metadata": {
        "id": "QKfHx7BI6Wwn",
        "colab_type": "text"
      },
      "source": [
        "Finally, let's take a look at the resulting CSV:"
      ]
    },
    {
      "cell_type": "code",
      "metadata": {
        "id": "ZwJZ7Lij6ZUp",
        "colab_type": "code",
        "colab": {
          "base_uri": "https://localhost:8080/",
          "height": 426
        },
        "outputId": "744fbccf-f794-483e-e111-87ee9a1692ca"
      },
      "source": [
        "output_df = pd.read_csv(output_path)\n",
        "display(output_df)"
      ],
      "execution_count": null,
      "outputs": [
        {
          "output_type": "display_data",
          "data": {
            "text/html": [
              "<div>\n",
              "<style scoped>\n",
              "    .dataframe tbody tr th:only-of-type {\n",
              "        vertical-align: middle;\n",
              "    }\n",
              "\n",
              "    .dataframe tbody tr th {\n",
              "        vertical-align: top;\n",
              "    }\n",
              "\n",
              "    .dataframe thead th {\n",
              "        text-align: right;\n",
              "    }\n",
              "</style>\n",
              "<table border=\"1\" class=\"dataframe\">\n",
              "  <thead>\n",
              "    <tr style=\"text-align: right;\">\n",
              "      <th></th>\n",
              "      <th>name</th>\n",
              "      <th>arousal</th>\n",
              "      <th>valence</th>\n",
              "      <th>dominance</th>\n",
              "    </tr>\n",
              "  </thead>\n",
              "  <tbody>\n",
              "    <tr>\n",
              "      <th>0</th>\n",
              "      <td>P02_T04_politics.txt</td>\n",
              "      <td>3.981810</td>\n",
              "      <td>5.478952</td>\n",
              "      <td>5.515810</td>\n",
              "    </tr>\n",
              "    <tr>\n",
              "      <th>1</th>\n",
              "      <td>P02_T04_vacation.txt</td>\n",
              "      <td>3.927586</td>\n",
              "      <td>6.357328</td>\n",
              "      <td>5.917328</td>\n",
              "    </tr>\n",
              "    <tr>\n",
              "      <th>2</th>\n",
              "      <td>P02_T04_cruelty.txt</td>\n",
              "      <td>3.878952</td>\n",
              "      <td>5.699274</td>\n",
              "      <td>5.506210</td>\n",
              "    </tr>\n",
              "    <tr>\n",
              "      <th>3</th>\n",
              "      <td>P03_T04_politics.txt</td>\n",
              "      <td>3.908696</td>\n",
              "      <td>6.054435</td>\n",
              "      <td>5.792087</td>\n",
              "    </tr>\n",
              "    <tr>\n",
              "      <th>4</th>\n",
              "      <td>P03_T04_vacation.txt</td>\n",
              "      <td>4.025524</td>\n",
              "      <td>6.461714</td>\n",
              "      <td>5.903619</td>\n",
              "    </tr>\n",
              "    <tr>\n",
              "      <th>5</th>\n",
              "      <td>P03_T04_cruelty.txt</td>\n",
              "      <td>4.074452</td>\n",
              "      <td>6.269806</td>\n",
              "      <td>5.783484</td>\n",
              "    </tr>\n",
              "    <tr>\n",
              "      <th>6</th>\n",
              "      <td>P04_T04_politics.txt</td>\n",
              "      <td>3.863061</td>\n",
              "      <td>5.910612</td>\n",
              "      <td>5.901939</td>\n",
              "    </tr>\n",
              "    <tr>\n",
              "      <th>7</th>\n",
              "      <td>P04_T04_vacation.txt</td>\n",
              "      <td>4.203226</td>\n",
              "      <td>6.458280</td>\n",
              "      <td>5.808602</td>\n",
              "    </tr>\n",
              "    <tr>\n",
              "      <th>8</th>\n",
              "      <td>P04_T04_cruelty.txt</td>\n",
              "      <td>4.194466</td>\n",
              "      <td>5.697184</td>\n",
              "      <td>5.332718</td>\n",
              "    </tr>\n",
              "    <tr>\n",
              "      <th>9</th>\n",
              "      <td>P01_T04_politics.txt</td>\n",
              "      <td>3.975289</td>\n",
              "      <td>5.790992</td>\n",
              "      <td>5.632397</td>\n",
              "    </tr>\n",
              "    <tr>\n",
              "      <th>10</th>\n",
              "      <td>P01_T04_vacation.txt</td>\n",
              "      <td>3.979020</td>\n",
              "      <td>6.159412</td>\n",
              "      <td>5.836176</td>\n",
              "    </tr>\n",
              "    <tr>\n",
              "      <th>11</th>\n",
              "      <td>P01_T04_cruelty.txt</td>\n",
              "      <td>4.094366</td>\n",
              "      <td>6.046901</td>\n",
              "      <td>5.761831</td>\n",
              "    </tr>\n",
              "  </tbody>\n",
              "</table>\n",
              "</div>"
            ],
            "text/plain": [
              "                    name   arousal   valence  dominance\n",
              "0   P02_T04_politics.txt  3.981810  5.478952   5.515810\n",
              "1   P02_T04_vacation.txt  3.927586  6.357328   5.917328\n",
              "2    P02_T04_cruelty.txt  3.878952  5.699274   5.506210\n",
              "3   P03_T04_politics.txt  3.908696  6.054435   5.792087\n",
              "4   P03_T04_vacation.txt  4.025524  6.461714   5.903619\n",
              "5    P03_T04_cruelty.txt  4.074452  6.269806   5.783484\n",
              "6   P04_T04_politics.txt  3.863061  5.910612   5.901939\n",
              "7   P04_T04_vacation.txt  4.203226  6.458280   5.808602\n",
              "8    P04_T04_cruelty.txt  4.194466  5.697184   5.332718\n",
              "9   P01_T04_politics.txt  3.975289  5.790992   5.632397\n",
              "10  P01_T04_vacation.txt  3.979020  6.159412   5.836176\n",
              "11   P01_T04_cruelty.txt  4.094366  6.046901   5.761831"
            ]
          },
          "metadata": {
            "tags": []
          }
        }
      ]
    },
    {
      "cell_type": "markdown",
      "metadata": {
        "id": "CzxaTtKRO3z7",
        "colab_type": "text"
      },
      "source": [
        "Try with the unedited transcripts:"
      ]
    },
    {
      "cell_type": "code",
      "metadata": {
        "id": "vaM7P4TROibk",
        "colab_type": "code",
        "colab": {}
      },
      "source": [
        "input_path = '/content/drive/My Drive/Data Analysis Summer Cog Lab/Linguistics/pilot/2_unedited'\n",
        "\n",
        "documents = os.listdir(input_path)\n",
        "\n",
        "documents = [(name, open(input_path+'/'+name, 'r').read()) for name in documents]\n",
        "\n",
        "output_path = '/content/drive/My Drive/Data Analysis Summer Cog Lab/Linguistics/pilot/4_results/avd_unedited_output.csv'\n",
        "with open(output_path, 'w') as file:\n",
        "    writer = csv.writer(file, delimiter=',')\n",
        "    writer.writerow(['name','arousal','valence','dominance'])\n",
        "    for d in documents:\n",
        "      name, text = d\n",
        "      arousal, valence, dominance = avd_get(text)\n",
        "      writer.writerow([name, arousal, valence, dominance])"
      ],
      "execution_count": null,
      "outputs": []
    },
    {
      "cell_type": "code",
      "metadata": {
        "id": "3a_NgVjkOxXZ",
        "colab_type": "code",
        "colab": {
          "base_uri": "https://localhost:8080/",
          "height": 426
        },
        "outputId": "3030c712-37fd-463f-e99e-80add3e98eaa"
      },
      "source": [
        "output_df = pd.read_csv(output_path)\n",
        "display(output_df)"
      ],
      "execution_count": null,
      "outputs": [
        {
          "output_type": "display_data",
          "data": {
            "text/html": [
              "<div>\n",
              "<style scoped>\n",
              "    .dataframe tbody tr th:only-of-type {\n",
              "        vertical-align: middle;\n",
              "    }\n",
              "\n",
              "    .dataframe tbody tr th {\n",
              "        vertical-align: top;\n",
              "    }\n",
              "\n",
              "    .dataframe thead th {\n",
              "        text-align: right;\n",
              "    }\n",
              "</style>\n",
              "<table border=\"1\" class=\"dataframe\">\n",
              "  <thead>\n",
              "    <tr style=\"text-align: right;\">\n",
              "      <th></th>\n",
              "      <th>name</th>\n",
              "      <th>arousal</th>\n",
              "      <th>valence</th>\n",
              "      <th>dominance</th>\n",
              "    </tr>\n",
              "  </thead>\n",
              "  <tbody>\n",
              "    <tr>\n",
              "      <th>0</th>\n",
              "      <td>P01_T04_vacation.txt</td>\n",
              "      <td>3.975315</td>\n",
              "      <td>6.155676</td>\n",
              "      <td>5.811622</td>\n",
              "    </tr>\n",
              "    <tr>\n",
              "      <th>1</th>\n",
              "      <td>P01_T04_politics.txt</td>\n",
              "      <td>3.909922</td>\n",
              "      <td>5.823488</td>\n",
              "      <td>5.644806</td>\n",
              "    </tr>\n",
              "    <tr>\n",
              "      <th>2</th>\n",
              "      <td>P01_T04_cruelty.txt</td>\n",
              "      <td>4.054685</td>\n",
              "      <td>6.042308</td>\n",
              "      <td>5.780140</td>\n",
              "    </tr>\n",
              "    <tr>\n",
              "      <th>3</th>\n",
              "      <td>P02_T04_vacation.txt</td>\n",
              "      <td>3.915315</td>\n",
              "      <td>6.333604</td>\n",
              "      <td>5.884234</td>\n",
              "    </tr>\n",
              "    <tr>\n",
              "      <th>4</th>\n",
              "      <td>P02_T04_politics.txt</td>\n",
              "      <td>3.945929</td>\n",
              "      <td>5.484336</td>\n",
              "      <td>5.515929</td>\n",
              "    </tr>\n",
              "    <tr>\n",
              "      <th>5</th>\n",
              "      <td>P02_T04_cruelty.txt</td>\n",
              "      <td>3.854000</td>\n",
              "      <td>5.741000</td>\n",
              "      <td>5.540167</td>\n",
              "    </tr>\n",
              "    <tr>\n",
              "      <th>6</th>\n",
              "      <td>P03_T04_vacation.txt</td>\n",
              "      <td>4.004804</td>\n",
              "      <td>6.441471</td>\n",
              "      <td>5.885588</td>\n",
              "    </tr>\n",
              "    <tr>\n",
              "      <th>7</th>\n",
              "      <td>P03_T04_politics.txt</td>\n",
              "      <td>3.886607</td>\n",
              "      <td>6.051161</td>\n",
              "      <td>5.788929</td>\n",
              "    </tr>\n",
              "    <tr>\n",
              "      <th>8</th>\n",
              "      <td>P03_T04_cruelty.txt</td>\n",
              "      <td>4.037974</td>\n",
              "      <td>6.247647</td>\n",
              "      <td>5.775425</td>\n",
              "    </tr>\n",
              "    <tr>\n",
              "      <th>9</th>\n",
              "      <td>P04_T04_vacation.txt</td>\n",
              "      <td>4.187045</td>\n",
              "      <td>6.344659</td>\n",
              "      <td>5.782159</td>\n",
              "    </tr>\n",
              "    <tr>\n",
              "      <th>10</th>\n",
              "      <td>P04_T04_politics.txt</td>\n",
              "      <td>3.813980</td>\n",
              "      <td>5.934898</td>\n",
              "      <td>5.880510</td>\n",
              "    </tr>\n",
              "    <tr>\n",
              "      <th>11</th>\n",
              "      <td>P04_T04_cruelty.txt</td>\n",
              "      <td>4.136762</td>\n",
              "      <td>5.703714</td>\n",
              "      <td>5.339714</td>\n",
              "    </tr>\n",
              "  </tbody>\n",
              "</table>\n",
              "</div>"
            ],
            "text/plain": [
              "                    name   arousal   valence  dominance\n",
              "0   P01_T04_vacation.txt  3.975315  6.155676   5.811622\n",
              "1   P01_T04_politics.txt  3.909922  5.823488   5.644806\n",
              "2    P01_T04_cruelty.txt  4.054685  6.042308   5.780140\n",
              "3   P02_T04_vacation.txt  3.915315  6.333604   5.884234\n",
              "4   P02_T04_politics.txt  3.945929  5.484336   5.515929\n",
              "5    P02_T04_cruelty.txt  3.854000  5.741000   5.540167\n",
              "6   P03_T04_vacation.txt  4.004804  6.441471   5.885588\n",
              "7   P03_T04_politics.txt  3.886607  6.051161   5.788929\n",
              "8    P03_T04_cruelty.txt  4.037974  6.247647   5.775425\n",
              "9   P04_T04_vacation.txt  4.187045  6.344659   5.782159\n",
              "10  P04_T04_politics.txt  3.813980  5.934898   5.880510\n",
              "11   P04_T04_cruelty.txt  4.136762  5.703714   5.339714"
            ]
          },
          "metadata": {
            "tags": []
          }
        }
      ]
    },
    {
      "cell_type": "markdown",
      "metadata": {
        "id": "QL91FuwmIwzE",
        "colab_type": "text"
      },
      "source": [
        "OK, so we get some results. But we need to run some statistics on them to make sure the results we're seeing are significant or insignificant. \n",
        "\n",
        "First, we'll compare edited vs. unedited texts.\n"
      ]
    },
    {
      "cell_type": "code",
      "metadata": {
        "id": "koPRDPyJI3MC",
        "colab_type": "code",
        "colab": {
          "base_uri": "https://localhost:8080/",
          "height": 426
        },
        "outputId": "77807d8a-769b-4a91-80a6-35fe714c976b"
      },
      "source": [
        "edited_path = '/content/drive/My Drive/Data Analysis Summer Cog Lab/Linguistics/pilot/4_results/avd_edited_output.csv'\n",
        "edited_df = pd.read_csv(edited_path)\n",
        "display(edited_df)"
      ],
      "execution_count": 16,
      "outputs": [
        {
          "output_type": "display_data",
          "data": {
            "text/html": [
              "<div>\n",
              "<style scoped>\n",
              "    .dataframe tbody tr th:only-of-type {\n",
              "        vertical-align: middle;\n",
              "    }\n",
              "\n",
              "    .dataframe tbody tr th {\n",
              "        vertical-align: top;\n",
              "    }\n",
              "\n",
              "    .dataframe thead th {\n",
              "        text-align: right;\n",
              "    }\n",
              "</style>\n",
              "<table border=\"1\" class=\"dataframe\">\n",
              "  <thead>\n",
              "    <tr style=\"text-align: right;\">\n",
              "      <th></th>\n",
              "      <th>name</th>\n",
              "      <th>arousal</th>\n",
              "      <th>valence</th>\n",
              "      <th>dominance</th>\n",
              "    </tr>\n",
              "  </thead>\n",
              "  <tbody>\n",
              "    <tr>\n",
              "      <th>0</th>\n",
              "      <td>P02_T04_politics.txt</td>\n",
              "      <td>3.981810</td>\n",
              "      <td>5.478952</td>\n",
              "      <td>5.515810</td>\n",
              "    </tr>\n",
              "    <tr>\n",
              "      <th>1</th>\n",
              "      <td>P02_T04_vacation.txt</td>\n",
              "      <td>3.927586</td>\n",
              "      <td>6.357328</td>\n",
              "      <td>5.917328</td>\n",
              "    </tr>\n",
              "    <tr>\n",
              "      <th>2</th>\n",
              "      <td>P02_T04_cruelty.txt</td>\n",
              "      <td>3.878952</td>\n",
              "      <td>5.699274</td>\n",
              "      <td>5.506210</td>\n",
              "    </tr>\n",
              "    <tr>\n",
              "      <th>3</th>\n",
              "      <td>P03_T04_politics.txt</td>\n",
              "      <td>3.908696</td>\n",
              "      <td>6.054435</td>\n",
              "      <td>5.792087</td>\n",
              "    </tr>\n",
              "    <tr>\n",
              "      <th>4</th>\n",
              "      <td>P03_T04_vacation.txt</td>\n",
              "      <td>4.025524</td>\n",
              "      <td>6.461714</td>\n",
              "      <td>5.903619</td>\n",
              "    </tr>\n",
              "    <tr>\n",
              "      <th>5</th>\n",
              "      <td>P03_T04_cruelty.txt</td>\n",
              "      <td>4.074452</td>\n",
              "      <td>6.269806</td>\n",
              "      <td>5.783484</td>\n",
              "    </tr>\n",
              "    <tr>\n",
              "      <th>6</th>\n",
              "      <td>P04_T04_politics.txt</td>\n",
              "      <td>3.863061</td>\n",
              "      <td>5.910612</td>\n",
              "      <td>5.901939</td>\n",
              "    </tr>\n",
              "    <tr>\n",
              "      <th>7</th>\n",
              "      <td>P04_T04_vacation.txt</td>\n",
              "      <td>4.203226</td>\n",
              "      <td>6.458280</td>\n",
              "      <td>5.808602</td>\n",
              "    </tr>\n",
              "    <tr>\n",
              "      <th>8</th>\n",
              "      <td>P04_T04_cruelty.txt</td>\n",
              "      <td>4.194466</td>\n",
              "      <td>5.697184</td>\n",
              "      <td>5.332718</td>\n",
              "    </tr>\n",
              "    <tr>\n",
              "      <th>9</th>\n",
              "      <td>P01_T04_politics.txt</td>\n",
              "      <td>3.975289</td>\n",
              "      <td>5.790992</td>\n",
              "      <td>5.632397</td>\n",
              "    </tr>\n",
              "    <tr>\n",
              "      <th>10</th>\n",
              "      <td>P01_T04_vacation.txt</td>\n",
              "      <td>3.979020</td>\n",
              "      <td>6.159412</td>\n",
              "      <td>5.836176</td>\n",
              "    </tr>\n",
              "    <tr>\n",
              "      <th>11</th>\n",
              "      <td>P01_T04_cruelty.txt</td>\n",
              "      <td>4.094366</td>\n",
              "      <td>6.046901</td>\n",
              "      <td>5.761831</td>\n",
              "    </tr>\n",
              "  </tbody>\n",
              "</table>\n",
              "</div>"
            ],
            "text/plain": [
              "                    name   arousal   valence  dominance\n",
              "0   P02_T04_politics.txt  3.981810  5.478952   5.515810\n",
              "1   P02_T04_vacation.txt  3.927586  6.357328   5.917328\n",
              "2    P02_T04_cruelty.txt  3.878952  5.699274   5.506210\n",
              "3   P03_T04_politics.txt  3.908696  6.054435   5.792087\n",
              "4   P03_T04_vacation.txt  4.025524  6.461714   5.903619\n",
              "5    P03_T04_cruelty.txt  4.074452  6.269806   5.783484\n",
              "6   P04_T04_politics.txt  3.863061  5.910612   5.901939\n",
              "7   P04_T04_vacation.txt  4.203226  6.458280   5.808602\n",
              "8    P04_T04_cruelty.txt  4.194466  5.697184   5.332718\n",
              "9   P01_T04_politics.txt  3.975289  5.790992   5.632397\n",
              "10  P01_T04_vacation.txt  3.979020  6.159412   5.836176\n",
              "11   P01_T04_cruelty.txt  4.094366  6.046901   5.761831"
            ]
          },
          "metadata": {
            "tags": []
          }
        }
      ]
    },
    {
      "cell_type": "code",
      "metadata": {
        "id": "y-MkLv4_JPBe",
        "colab_type": "code",
        "colab": {
          "base_uri": "https://localhost:8080/",
          "height": 426
        },
        "outputId": "e356f32e-657c-4dac-f2b7-772389b34362"
      },
      "source": [
        "unedited_path = '/content/drive/My Drive/Data Analysis Summer Cog Lab/Linguistics/pilot/4_results/avd_unedited_output.csv'\n",
        "unedited_df = pd.read_csv(unedited_path)\n",
        "display(unedited_df)"
      ],
      "execution_count": 17,
      "outputs": [
        {
          "output_type": "display_data",
          "data": {
            "text/html": [
              "<div>\n",
              "<style scoped>\n",
              "    .dataframe tbody tr th:only-of-type {\n",
              "        vertical-align: middle;\n",
              "    }\n",
              "\n",
              "    .dataframe tbody tr th {\n",
              "        vertical-align: top;\n",
              "    }\n",
              "\n",
              "    .dataframe thead th {\n",
              "        text-align: right;\n",
              "    }\n",
              "</style>\n",
              "<table border=\"1\" class=\"dataframe\">\n",
              "  <thead>\n",
              "    <tr style=\"text-align: right;\">\n",
              "      <th></th>\n",
              "      <th>name</th>\n",
              "      <th>arousal</th>\n",
              "      <th>valence</th>\n",
              "      <th>dominance</th>\n",
              "    </tr>\n",
              "  </thead>\n",
              "  <tbody>\n",
              "    <tr>\n",
              "      <th>0</th>\n",
              "      <td>P01_T04_vacation.txt</td>\n",
              "      <td>3.975315</td>\n",
              "      <td>6.155676</td>\n",
              "      <td>5.811622</td>\n",
              "    </tr>\n",
              "    <tr>\n",
              "      <th>1</th>\n",
              "      <td>P01_T04_politics.txt</td>\n",
              "      <td>3.909922</td>\n",
              "      <td>5.823488</td>\n",
              "      <td>5.644806</td>\n",
              "    </tr>\n",
              "    <tr>\n",
              "      <th>2</th>\n",
              "      <td>P01_T04_cruelty.txt</td>\n",
              "      <td>4.054685</td>\n",
              "      <td>6.042308</td>\n",
              "      <td>5.780140</td>\n",
              "    </tr>\n",
              "    <tr>\n",
              "      <th>3</th>\n",
              "      <td>P02_T04_vacation.txt</td>\n",
              "      <td>3.915315</td>\n",
              "      <td>6.333604</td>\n",
              "      <td>5.884234</td>\n",
              "    </tr>\n",
              "    <tr>\n",
              "      <th>4</th>\n",
              "      <td>P02_T04_politics.txt</td>\n",
              "      <td>3.945929</td>\n",
              "      <td>5.484336</td>\n",
              "      <td>5.515929</td>\n",
              "    </tr>\n",
              "    <tr>\n",
              "      <th>5</th>\n",
              "      <td>P02_T04_cruelty.txt</td>\n",
              "      <td>3.854000</td>\n",
              "      <td>5.741000</td>\n",
              "      <td>5.540167</td>\n",
              "    </tr>\n",
              "    <tr>\n",
              "      <th>6</th>\n",
              "      <td>P03_T04_vacation.txt</td>\n",
              "      <td>4.004804</td>\n",
              "      <td>6.441471</td>\n",
              "      <td>5.885588</td>\n",
              "    </tr>\n",
              "    <tr>\n",
              "      <th>7</th>\n",
              "      <td>P03_T04_politics.txt</td>\n",
              "      <td>3.886607</td>\n",
              "      <td>6.051161</td>\n",
              "      <td>5.788929</td>\n",
              "    </tr>\n",
              "    <tr>\n",
              "      <th>8</th>\n",
              "      <td>P03_T04_cruelty.txt</td>\n",
              "      <td>4.037974</td>\n",
              "      <td>6.247647</td>\n",
              "      <td>5.775425</td>\n",
              "    </tr>\n",
              "    <tr>\n",
              "      <th>9</th>\n",
              "      <td>P04_T04_vacation.txt</td>\n",
              "      <td>4.187045</td>\n",
              "      <td>6.344659</td>\n",
              "      <td>5.782159</td>\n",
              "    </tr>\n",
              "    <tr>\n",
              "      <th>10</th>\n",
              "      <td>P04_T04_politics.txt</td>\n",
              "      <td>3.813980</td>\n",
              "      <td>5.934898</td>\n",
              "      <td>5.880510</td>\n",
              "    </tr>\n",
              "    <tr>\n",
              "      <th>11</th>\n",
              "      <td>P04_T04_cruelty.txt</td>\n",
              "      <td>4.136762</td>\n",
              "      <td>5.703714</td>\n",
              "      <td>5.339714</td>\n",
              "    </tr>\n",
              "  </tbody>\n",
              "</table>\n",
              "</div>"
            ],
            "text/plain": [
              "                    name   arousal   valence  dominance\n",
              "0   P01_T04_vacation.txt  3.975315  6.155676   5.811622\n",
              "1   P01_T04_politics.txt  3.909922  5.823488   5.644806\n",
              "2    P01_T04_cruelty.txt  4.054685  6.042308   5.780140\n",
              "3   P02_T04_vacation.txt  3.915315  6.333604   5.884234\n",
              "4   P02_T04_politics.txt  3.945929  5.484336   5.515929\n",
              "5    P02_T04_cruelty.txt  3.854000  5.741000   5.540167\n",
              "6   P03_T04_vacation.txt  4.004804  6.441471   5.885588\n",
              "7   P03_T04_politics.txt  3.886607  6.051161   5.788929\n",
              "8    P03_T04_cruelty.txt  4.037974  6.247647   5.775425\n",
              "9   P04_T04_vacation.txt  4.187045  6.344659   5.782159\n",
              "10  P04_T04_politics.txt  3.813980  5.934898   5.880510\n",
              "11   P04_T04_cruelty.txt  4.136762  5.703714   5.339714"
            ]
          },
          "metadata": {
            "tags": []
          }
        }
      ]
    },
    {
      "cell_type": "code",
      "metadata": {
        "id": "Ye6PCN1oJaDZ",
        "colab_type": "code",
        "colab": {
          "base_uri": "https://localhost:8080/",
          "height": 34
        },
        "outputId": "f7b1c8b4-fc56-43c0-de85-976dd9192cad"
      },
      "source": [
        "from scipy.stats import ttest_ind\n",
        "\n",
        "ttest_ind(unedited_df['arousal'], edited_df['arousal'])"
      ],
      "execution_count": 23,
      "outputs": [
        {
          "output_type": "execute_result",
          "data": {
            "text/plain": [
              "Ttest_indResult(statistic=-0.6938064382131189, pvalue=0.49506483394100365)"
            ]
          },
          "metadata": {
            "tags": []
          },
          "execution_count": 23
        }
      ]
    },
    {
      "cell_type": "code",
      "metadata": {
        "id": "xf696H2nKeQz",
        "colab_type": "code",
        "colab": {
          "base_uri": "https://localhost:8080/",
          "height": 34
        },
        "outputId": "1933c8ef-372a-4662-b9df-e687164d5fcb"
      },
      "source": [
        "ttest_ind(unedited_df['valence'], edited_df['valence'])"
      ],
      "execution_count": 24,
      "outputs": [
        {
          "output_type": "execute_result",
          "data": {
            "text/plain": [
              "Ttest_indResult(statistic=-0.053334363798167445, pvalue=0.957946852395784)"
            ]
          },
          "metadata": {
            "tags": []
          },
          "execution_count": 24
        }
      ]
    },
    {
      "cell_type": "code",
      "metadata": {
        "id": "fi1gqZBdKh8_",
        "colab_type": "code",
        "colab": {
          "base_uri": "https://localhost:8080/",
          "height": 34
        },
        "outputId": "0b4f229a-baab-4173-bbe4-bf4387315994"
      },
      "source": [
        "ttest_ind(unedited_df['dominance'], edited_df['dominance'])"
      ],
      "execution_count": 25,
      "outputs": [
        {
          "output_type": "execute_result",
          "data": {
            "text/plain": [
              "Ttest_indResult(statistic=-0.07150717502446252, pvalue=0.9436401999665964)"
            ]
          },
          "metadata": {
            "tags": []
          },
          "execution_count": 25
        }
      ]
    },
    {
      "cell_type": "markdown",
      "metadata": {
        "id": "990drlQwOyv2",
        "colab_type": "text"
      },
      "source": [
        "OK, now topics. We're going to compare edited and unedited separately."
      ]
    },
    {
      "cell_type": "code",
      "metadata": {
        "id": "Y1yVJI0JOyLg",
        "colab_type": "code",
        "colab": {
          "base_uri": "https://localhost:8080/",
          "height": 491
        },
        "outputId": "14270c6c-6ec8-47d7-ac82-2b88c0783309"
      },
      "source": [
        "vacations_df = pd.DataFrame([row for index, row in edited_df.iterrows() if 'vacation' in row['name']])\n",
        "politics_df = pd.DataFrame([row for index, row in edited_df.iterrows() if 'politics' in row['name']])\n",
        "cruelty_df = pd.DataFrame([row for index, row in edited_df.iterrows() if 'cruelty' in row['name']])\n",
        "\n",
        "display(vacations_df)\n",
        "display(politics_df)\n",
        "display(cruelty_df)"
      ],
      "execution_count": 33,
      "outputs": [
        {
          "output_type": "display_data",
          "data": {
            "text/html": [
              "<div>\n",
              "<style scoped>\n",
              "    .dataframe tbody tr th:only-of-type {\n",
              "        vertical-align: middle;\n",
              "    }\n",
              "\n",
              "    .dataframe tbody tr th {\n",
              "        vertical-align: top;\n",
              "    }\n",
              "\n",
              "    .dataframe thead th {\n",
              "        text-align: right;\n",
              "    }\n",
              "</style>\n",
              "<table border=\"1\" class=\"dataframe\">\n",
              "  <thead>\n",
              "    <tr style=\"text-align: right;\">\n",
              "      <th></th>\n",
              "      <th>name</th>\n",
              "      <th>arousal</th>\n",
              "      <th>valence</th>\n",
              "      <th>dominance</th>\n",
              "    </tr>\n",
              "  </thead>\n",
              "  <tbody>\n",
              "    <tr>\n",
              "      <th>1</th>\n",
              "      <td>P02_T04_vacation.txt</td>\n",
              "      <td>3.927586</td>\n",
              "      <td>6.357328</td>\n",
              "      <td>5.917328</td>\n",
              "    </tr>\n",
              "    <tr>\n",
              "      <th>4</th>\n",
              "      <td>P03_T04_vacation.txt</td>\n",
              "      <td>4.025524</td>\n",
              "      <td>6.461714</td>\n",
              "      <td>5.903619</td>\n",
              "    </tr>\n",
              "    <tr>\n",
              "      <th>7</th>\n",
              "      <td>P04_T04_vacation.txt</td>\n",
              "      <td>4.203226</td>\n",
              "      <td>6.458280</td>\n",
              "      <td>5.808602</td>\n",
              "    </tr>\n",
              "    <tr>\n",
              "      <th>10</th>\n",
              "      <td>P01_T04_vacation.txt</td>\n",
              "      <td>3.979020</td>\n",
              "      <td>6.159412</td>\n",
              "      <td>5.836176</td>\n",
              "    </tr>\n",
              "  </tbody>\n",
              "</table>\n",
              "</div>"
            ],
            "text/plain": [
              "                    name   arousal   valence  dominance\n",
              "1   P02_T04_vacation.txt  3.927586  6.357328   5.917328\n",
              "4   P03_T04_vacation.txt  4.025524  6.461714   5.903619\n",
              "7   P04_T04_vacation.txt  4.203226  6.458280   5.808602\n",
              "10  P01_T04_vacation.txt  3.979020  6.159412   5.836176"
            ]
          },
          "metadata": {
            "tags": []
          }
        },
        {
          "output_type": "display_data",
          "data": {
            "text/html": [
              "<div>\n",
              "<style scoped>\n",
              "    .dataframe tbody tr th:only-of-type {\n",
              "        vertical-align: middle;\n",
              "    }\n",
              "\n",
              "    .dataframe tbody tr th {\n",
              "        vertical-align: top;\n",
              "    }\n",
              "\n",
              "    .dataframe thead th {\n",
              "        text-align: right;\n",
              "    }\n",
              "</style>\n",
              "<table border=\"1\" class=\"dataframe\">\n",
              "  <thead>\n",
              "    <tr style=\"text-align: right;\">\n",
              "      <th></th>\n",
              "      <th>name</th>\n",
              "      <th>arousal</th>\n",
              "      <th>valence</th>\n",
              "      <th>dominance</th>\n",
              "    </tr>\n",
              "  </thead>\n",
              "  <tbody>\n",
              "    <tr>\n",
              "      <th>0</th>\n",
              "      <td>P02_T04_politics.txt</td>\n",
              "      <td>3.981810</td>\n",
              "      <td>5.478952</td>\n",
              "      <td>5.515810</td>\n",
              "    </tr>\n",
              "    <tr>\n",
              "      <th>3</th>\n",
              "      <td>P03_T04_politics.txt</td>\n",
              "      <td>3.908696</td>\n",
              "      <td>6.054435</td>\n",
              "      <td>5.792087</td>\n",
              "    </tr>\n",
              "    <tr>\n",
              "      <th>6</th>\n",
              "      <td>P04_T04_politics.txt</td>\n",
              "      <td>3.863061</td>\n",
              "      <td>5.910612</td>\n",
              "      <td>5.901939</td>\n",
              "    </tr>\n",
              "    <tr>\n",
              "      <th>9</th>\n",
              "      <td>P01_T04_politics.txt</td>\n",
              "      <td>3.975289</td>\n",
              "      <td>5.790992</td>\n",
              "      <td>5.632397</td>\n",
              "    </tr>\n",
              "  </tbody>\n",
              "</table>\n",
              "</div>"
            ],
            "text/plain": [
              "                   name   arousal   valence  dominance\n",
              "0  P02_T04_politics.txt  3.981810  5.478952   5.515810\n",
              "3  P03_T04_politics.txt  3.908696  6.054435   5.792087\n",
              "6  P04_T04_politics.txt  3.863061  5.910612   5.901939\n",
              "9  P01_T04_politics.txt  3.975289  5.790992   5.632397"
            ]
          },
          "metadata": {
            "tags": []
          }
        },
        {
          "output_type": "display_data",
          "data": {
            "text/html": [
              "<div>\n",
              "<style scoped>\n",
              "    .dataframe tbody tr th:only-of-type {\n",
              "        vertical-align: middle;\n",
              "    }\n",
              "\n",
              "    .dataframe tbody tr th {\n",
              "        vertical-align: top;\n",
              "    }\n",
              "\n",
              "    .dataframe thead th {\n",
              "        text-align: right;\n",
              "    }\n",
              "</style>\n",
              "<table border=\"1\" class=\"dataframe\">\n",
              "  <thead>\n",
              "    <tr style=\"text-align: right;\">\n",
              "      <th></th>\n",
              "      <th>name</th>\n",
              "      <th>arousal</th>\n",
              "      <th>valence</th>\n",
              "      <th>dominance</th>\n",
              "    </tr>\n",
              "  </thead>\n",
              "  <tbody>\n",
              "    <tr>\n",
              "      <th>2</th>\n",
              "      <td>P02_T04_cruelty.txt</td>\n",
              "      <td>3.878952</td>\n",
              "      <td>5.699274</td>\n",
              "      <td>5.506210</td>\n",
              "    </tr>\n",
              "    <tr>\n",
              "      <th>5</th>\n",
              "      <td>P03_T04_cruelty.txt</td>\n",
              "      <td>4.074452</td>\n",
              "      <td>6.269806</td>\n",
              "      <td>5.783484</td>\n",
              "    </tr>\n",
              "    <tr>\n",
              "      <th>8</th>\n",
              "      <td>P04_T04_cruelty.txt</td>\n",
              "      <td>4.194466</td>\n",
              "      <td>5.697184</td>\n",
              "      <td>5.332718</td>\n",
              "    </tr>\n",
              "    <tr>\n",
              "      <th>11</th>\n",
              "      <td>P01_T04_cruelty.txt</td>\n",
              "      <td>4.094366</td>\n",
              "      <td>6.046901</td>\n",
              "      <td>5.761831</td>\n",
              "    </tr>\n",
              "  </tbody>\n",
              "</table>\n",
              "</div>"
            ],
            "text/plain": [
              "                   name   arousal   valence  dominance\n",
              "2   P02_T04_cruelty.txt  3.878952  5.699274   5.506210\n",
              "5   P03_T04_cruelty.txt  4.074452  6.269806   5.783484\n",
              "8   P04_T04_cruelty.txt  4.194466  5.697184   5.332718\n",
              "11  P01_T04_cruelty.txt  4.094366  6.046901   5.761831"
            ]
          },
          "metadata": {
            "tags": []
          }
        }
      ]
    },
    {
      "cell_type": "code",
      "metadata": {
        "id": "NSvxM3wQQmnh",
        "colab_type": "code",
        "colab": {
          "base_uri": "https://localhost:8080/",
          "height": 69
        },
        "outputId": "5311bbcb-98c8-4fce-87ed-dd5106ad8ef5"
      },
      "source": [
        "import scipy.stats as stats\n",
        "\n",
        "\n",
        "print(stats.f_oneway(vacations_df['arousal'], politics_df['arousal'], cruelty_df['arousal']))\n",
        "print(stats.f_oneway(vacations_df['valence'], politics_df['valence'], cruelty_df['valence']))\n",
        "print(stats.f_oneway(vacations_df['dominance'], politics_df['dominance'], cruelty_df['dominance']))"
      ],
      "execution_count": 37,
      "outputs": [
        {
          "output_type": "stream",
          "text": [
            "F_onewayResult(statistic=1.57291043869498, pvalue=0.2595197226962048)\n",
            "F_onewayResult(statistic=6.331254044692919, pvalue=0.0192044543376894)\n",
            "F_onewayResult(statistic=2.8145852241573617, pvalue=0.11235764875538076)\n"
          ],
          "name": "stdout"
        }
      ]
    },
    {
      "cell_type": "code",
      "metadata": {
        "id": "Auop-ipsRU9P",
        "colab_type": "code",
        "colab": {}
      },
      "source": [
        "vacations_df = pd.DataFrame([row for index, row in unedited_df.iterrows() if 'vacation' in row['name']])\n",
        "politics_df = pd.DataFrame([row for index, row in unedited_df.iterrows() if 'politics' in row['name']])\n",
        "cruelty_df = pd.DataFrame([row for index, row in unedited_df.iterrows() if 'cruelty' in row['name']])"
      ],
      "execution_count": 38,
      "outputs": []
    },
    {
      "cell_type": "code",
      "metadata": {
        "id": "5F_PeozzRYT6",
        "colab_type": "code",
        "colab": {
          "base_uri": "https://localhost:8080/",
          "height": 69
        },
        "outputId": "b4c4fa3e-3099-4924-b567-634fd6ec5de5"
      },
      "source": [
        "print(stats.f_oneway(vacations_df['arousal'], politics_df['arousal'], cruelty_df['arousal']))\n",
        "print(stats.f_oneway(vacations_df['valence'], politics_df['valence'], cruelty_df['valence']))\n",
        "print(stats.f_oneway(vacations_df['dominance'], politics_df['dominance'], cruelty_df['dominance']))"
      ],
      "execution_count": 39,
      "outputs": [
        {
          "output_type": "stream",
          "text": [
            "F_onewayResult(statistic=2.2328698375824447, pvalue=0.16313807307524747)\n",
            "F_onewayResult(statistic=5.768527332746453, pvalue=0.02441572228605834)\n",
            "F_onewayResult(statistic=2.2229300449588707, pvalue=0.16422627672943538)\n"
          ],
          "name": "stdout"
        }
      ]
    },
    {
      "cell_type": "markdown",
      "metadata": {
        "id": "dmtHmSaZfIMr",
        "colab_type": "text"
      },
      "source": [
        "## IMDB Test"
      ]
    },
    {
      "cell_type": "markdown",
      "metadata": {
        "id": "HCWEIzkcfII8",
        "colab_type": "text"
      },
      "source": [
        ""
      ]
    },
    {
      "cell_type": "code",
      "metadata": {
        "id": "uSz8pwwBNI0Z",
        "colab_type": "code",
        "colab": {
          "base_uri": "https://localhost:8080/",
          "height": 54
        },
        "outputId": "f13b644b-5e5f-4474-c76f-57a6e6d32e43"
      },
      "source": [
        "pos_path = \"/content/drive/My Drive/Summer Cog Zoom May 20/Linguistic/IMDB_reviews/pos\"\n",
        "neg_path = \"/content/drive/My Drive/Summer Cog Zoom May 20/Linguistic/IMDB_reviews/neg\"\n",
        "\n",
        "pos_files = os.listdir(pos_path)\n",
        "neg_files = os.listdir(neg_path)\n",
        "\n",
        "pos_contents = [open(pos_path+\"/\"+file, \"r\").read() for file in pos_files]\n",
        "  "
      ],
      "execution_count": null,
      "outputs": [
        {
          "output_type": "stream",
          "text": [
            "If you \"get it\", it's magnificent.<br /><br />If you don't, it's decent.<br /><br />Please understand that \"getting it\" does not necessarily mean you've gone through a school shooting. There is so much more to this movie that, at times, the school shooting becomes insignificant.<br /><br />Above all, it's a movie about acceptance, both superficially--of a traumatic event, but also of people who are different for whatever reason.<br /><br />It's also a movie about unendurable pain, and how different people endure it. In this case, the contrast between Alicia's rage and Deanna's obsession creates an atmosphere of such palpable anxiety that halfway through the movie we wonder how the director could possibly pull a happy ending out of his hat. Thankfully, the audience is given credit for being human beings; our intelligence is not insulted by a sappy, implausibly moralistic ending.<br /><br />Above and beyond that, I try to keep a clear head about movies being fiction and all that. Yet I must admit, I cried like a lost little baby during this movie. There were certain things about it that hit *very* close to home and opened up some old wounds that never quite healed. But that is not necessarily a bad thing.\n"
          ],
          "name": "stdout"
        }
      ]
    },
    {
      "cell_type": "code",
      "metadata": {
        "id": "Lw3ErS-Zg4gW",
        "colab_type": "code",
        "colab": {}
      },
      "source": [
        "neg_contents = [open(neg_path+\"/\"+file, \"r\").read() for file in neg_files]"
      ],
      "execution_count": null,
      "outputs": []
    },
    {
      "cell_type": "code",
      "metadata": {
        "id": "b0BMubpbg8G4",
        "colab_type": "code",
        "colab": {}
      },
      "source": [
        "pos_results = [avd_get(entry) for entry in pos_contents]\n",
        "neg_results = [avd_get(entry) for entry in neg_contents]"
      ],
      "execution_count": null,
      "outputs": []
    },
    {
      "cell_type": "code",
      "metadata": {
        "id": "BAj6W4XRiTOO",
        "colab_type": "code",
        "colab": {}
      },
      "source": [
        "import pickle\n",
        "\n",
        "pos_pickle = open(pos_path+\"/pos.pickle\", \"wb\")\n",
        "pickle.dump(pos_results, pos_pickle)\n",
        "neg_pickle = open(neg_path+\"/neg.pickle\", \"wb\")\n",
        "pickle.dump(neg_results, neg_pickle)"
      ],
      "execution_count": null,
      "outputs": []
    },
    {
      "cell_type": "code",
      "metadata": {
        "id": "lOPhH-CuhLz_",
        "colab_type": "code",
        "colab": {}
      },
      "source": [
        "pos_df = pd.DataFrame(pos_results)\n",
        "neg_df = pd.DataFrame(neg_results)\n"
      ],
      "execution_count": null,
      "outputs": []
    },
    {
      "cell_type": "code",
      "metadata": {
        "id": "qXJ6V9zrjjpp",
        "colab_type": "code",
        "colab": {
          "base_uri": "https://localhost:8080/",
          "height": 424
        },
        "outputId": "6d96c55a-65d9-48c4-d043-f0753776ffba"
      },
      "source": [
        "display(pos_df)"
      ],
      "execution_count": null,
      "outputs": [
        {
          "output_type": "display_data",
          "data": {
            "text/html": [
              "<div>\n",
              "<style scoped>\n",
              "    .dataframe tbody tr th:only-of-type {\n",
              "        vertical-align: middle;\n",
              "    }\n",
              "\n",
              "    .dataframe tbody tr th {\n",
              "        vertical-align: top;\n",
              "    }\n",
              "\n",
              "    .dataframe thead th {\n",
              "        text-align: right;\n",
              "    }\n",
              "</style>\n",
              "<table border=\"1\" class=\"dataframe\">\n",
              "  <thead>\n",
              "    <tr style=\"text-align: right;\">\n",
              "      <th></th>\n",
              "      <th>0</th>\n",
              "      <th>1</th>\n",
              "      <th>2</th>\n",
              "    </tr>\n",
              "  </thead>\n",
              "  <tbody>\n",
              "    <tr>\n",
              "      <th>0</th>\n",
              "      <td>4.126977</td>\n",
              "      <td>5.794419</td>\n",
              "      <td>5.544651</td>\n",
              "    </tr>\n",
              "    <tr>\n",
              "      <th>1</th>\n",
              "      <td>3.981395</td>\n",
              "      <td>5.939535</td>\n",
              "      <td>5.659070</td>\n",
              "    </tr>\n",
              "    <tr>\n",
              "      <th>2</th>\n",
              "      <td>3.944889</td>\n",
              "      <td>6.136444</td>\n",
              "      <td>5.805111</td>\n",
              "    </tr>\n",
              "    <tr>\n",
              "      <th>3</th>\n",
              "      <td>4.278000</td>\n",
              "      <td>5.890231</td>\n",
              "      <td>5.722308</td>\n",
              "    </tr>\n",
              "    <tr>\n",
              "      <th>4</th>\n",
              "      <td>4.133692</td>\n",
              "      <td>6.214308</td>\n",
              "      <td>5.717077</td>\n",
              "    </tr>\n",
              "    <tr>\n",
              "      <th>...</th>\n",
              "      <td>...</td>\n",
              "      <td>...</td>\n",
              "      <td>...</td>\n",
              "    </tr>\n",
              "    <tr>\n",
              "      <th>195</th>\n",
              "      <td>3.853551</td>\n",
              "      <td>6.087009</td>\n",
              "      <td>5.773925</td>\n",
              "    </tr>\n",
              "    <tr>\n",
              "      <th>196</th>\n",
              "      <td>4.123301</td>\n",
              "      <td>5.941553</td>\n",
              "      <td>5.711942</td>\n",
              "    </tr>\n",
              "    <tr>\n",
              "      <th>197</th>\n",
              "      <td>3.800615</td>\n",
              "      <td>6.052462</td>\n",
              "      <td>5.928615</td>\n",
              "    </tr>\n",
              "    <tr>\n",
              "      <th>198</th>\n",
              "      <td>4.064412</td>\n",
              "      <td>6.209020</td>\n",
              "      <td>5.916078</td>\n",
              "    </tr>\n",
              "    <tr>\n",
              "      <th>199</th>\n",
              "      <td>4.016914</td>\n",
              "      <td>5.939012</td>\n",
              "      <td>5.701852</td>\n",
              "    </tr>\n",
              "  </tbody>\n",
              "</table>\n",
              "<p>200 rows × 3 columns</p>\n",
              "</div>"
            ],
            "text/plain": [
              "            0         1         2\n",
              "0    4.126977  5.794419  5.544651\n",
              "1    3.981395  5.939535  5.659070\n",
              "2    3.944889  6.136444  5.805111\n",
              "3    4.278000  5.890231  5.722308\n",
              "4    4.133692  6.214308  5.717077\n",
              "..        ...       ...       ...\n",
              "195  3.853551  6.087009  5.773925\n",
              "196  4.123301  5.941553  5.711942\n",
              "197  3.800615  6.052462  5.928615\n",
              "198  4.064412  6.209020  5.916078\n",
              "199  4.016914  5.939012  5.701852\n",
              "\n",
              "[200 rows x 3 columns]"
            ]
          },
          "metadata": {
            "tags": []
          }
        }
      ]
    },
    {
      "cell_type": "code",
      "metadata": {
        "id": "Ctdw1XrgkF44",
        "colab_type": "code",
        "colab": {}
      },
      "source": [
        "pos_avd = (pos_df[0].mean(), pos_df[1].mean(), pos_df[2].mean())\n",
        "neg_avd = (neg_df[0].mean(), neg_df[1].mean(), neg_df[2].mean())"
      ],
      "execution_count": null,
      "outputs": []
    },
    {
      "cell_type": "code",
      "metadata": {
        "id": "6oQlVQ7SkaPm",
        "colab_type": "code",
        "colab": {
          "base_uri": "https://localhost:8080/",
          "height": 52
        },
        "outputId": "48790aab-9992-4a60-d792-e26242560eed"
      },
      "source": [
        "print(\"Positive Reviews Arousal:\", pos_avd[0], \"Valence:\", pos_avd[1], \"Dominance:\", pos_avd[2])\n",
        "print(\"Negative Reviews Arousal:\", neg_avd[0], \"Valence:\", neg_avd[1], \"Dominance:\", neg_avd[2])"
      ],
      "execution_count": null,
      "outputs": [
        {
          "output_type": "stream",
          "text": [
            "Positive Reviews Arousal: 4.071610069204202 Valence: 5.914732459686648 Dominance: 5.661810084938473\n",
            "Negative Reviews Arousal: 4.036584152805322 Valence: 5.768386691675906 Dominance: 5.580582868391926\n"
          ],
          "name": "stdout"
        }
      ]
    },
    {
      "cell_type": "markdown",
      "metadata": {
        "id": "oeIx5noUnTKN",
        "colab_type": "text"
      },
      "source": [
        "## Statistics (T-test, p-value)"
      ]
    },
    {
      "cell_type": "code",
      "metadata": {
        "id": "PgVyepkhmQXh",
        "colab_type": "code",
        "colab": {
          "base_uri": "https://localhost:8080/",
          "height": 52
        },
        "outputId": "9fef58c1-aa5e-4eb6-a34a-ad0ace1b0f61"
      },
      "source": [
        "from scipy.stats import ttest_ind\n",
        "\n",
        "print('Arousal')\n",
        "ttest_ind(pos_df[0], neg_df[0])"
      ],
      "execution_count": null,
      "outputs": [
        {
          "output_type": "stream",
          "text": [
            "Arousal\n"
          ],
          "name": "stdout"
        },
        {
          "output_type": "execute_result",
          "data": {
            "text/plain": [
              "Ttest_indResult(statistic=2.406988367717121, pvalue=0.01653925997668273)"
            ]
          },
          "metadata": {
            "tags": []
          },
          "execution_count": 50
        }
      ]
    },
    {
      "cell_type": "code",
      "metadata": {
        "id": "0y1VoFIdmaco",
        "colab_type": "code",
        "colab": {
          "base_uri": "https://localhost:8080/",
          "height": 52
        },
        "outputId": "c5375da1-9fa4-4490-ccb3-7a648b235b79"
      },
      "source": [
        "print(\"Valence\")\n",
        "ttest_ind(pos_df[1], neg_df[1])"
      ],
      "execution_count": null,
      "outputs": [
        {
          "output_type": "stream",
          "text": [
            "Valence\n"
          ],
          "name": "stdout"
        },
        {
          "output_type": "execute_result",
          "data": {
            "text/plain": [
              "Ttest_indResult(statistic=6.378697076168146, pvalue=4.963757899054474e-10)"
            ]
          },
          "metadata": {
            "tags": []
          },
          "execution_count": 51
        }
      ]
    },
    {
      "cell_type": "code",
      "metadata": {
        "id": "AzbAVvdAmeT4",
        "colab_type": "code",
        "colab": {
          "base_uri": "https://localhost:8080/",
          "height": 52
        },
        "outputId": "1243855a-fb8f-4e73-e119-7f5488658de6"
      },
      "source": [
        "print(\"Dominance\")\n",
        "ttest_ind(pos_df[2], neg_df[2])"
      ],
      "execution_count": null,
      "outputs": [
        {
          "output_type": "stream",
          "text": [
            "Dominance\n"
          ],
          "name": "stdout"
        },
        {
          "output_type": "execute_result",
          "data": {
            "text/plain": [
              "Ttest_indResult(statistic=5.414266488445275, pvalue=1.0663296007641505e-07)"
            ]
          },
          "metadata": {
            "tags": []
          },
          "execution_count": 52
        }
      ]
    },
    {
      "cell_type": "markdown",
      "metadata": {
        "id": "wQcr3hsKqRp9",
        "colab_type": "text"
      },
      "source": [
        "## Edited vs. Unedited"
      ]
    },
    {
      "cell_type": "code",
      "metadata": {
        "id": "0NHLO919qRHJ",
        "colab_type": "code",
        "colab": {}
      },
      "source": [
        ""
      ],
      "execution_count": null,
      "outputs": []
    }
  ]
}